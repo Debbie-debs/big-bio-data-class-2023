{
  "nbformat": 4,
  "nbformat_minor": 0,
  "metadata": {
    "colab": {
      "provenance": []
    },
    "kernelspec": {
      "name": "python3",
      "display_name": "Python 3"
    },
    "language_info": {
      "name": "python"
    }
  },
  "cells": [
    {
      "cell_type": "markdown",
      "source": [
        "## Numpy Assignment\n",
        "Student Name:\n",
        "\n",
        "Reg No:\n",
        "\n",
        "## Instructions:\n",
        "- Please complete the questions below.\n",
        "- Please comment your code indicating how you approached the problem"
      ],
      "metadata": {
        "id": "aTz0cvx7Iex3"
      }
    },
    {
      "cell_type": "code",
      "execution_count": null,
      "metadata": {
        "id": "NwKEk4skG5c2"
      },
      "outputs": [],
      "source": [
        "# What is NumPy, and what are some of its key features?"
      ]
    },
    {
      "cell_type": "code",
      "source": [
        "#How do you create a NumPy array using Python's built-in range() function?"
      ],
      "metadata": {
        "id": "OMqoIR7oJD0i"
      },
      "execution_count": null,
      "outputs": []
    },
    {
      "cell_type": "code",
      "source": [
        "#What is the difference between a scalar value and a vector in NumPy?"
      ],
      "metadata": {
        "id": "DRVy8tPoJHQr"
      },
      "execution_count": null,
      "outputs": []
    },
    {
      "cell_type": "code",
      "source": [
        "#How do you calculate the mean of a NumPy array using the mean() function?"
      ],
      "metadata": {
        "id": "lHa-pHerJKd0"
      },
      "execution_count": null,
      "outputs": []
    },
    {
      "cell_type": "code",
      "source": [
        "#What is broadcasting in NumPy, and how can it be useful?"
      ],
      "metadata": {
        "id": "EqpLGTh8JON9"
      },
      "execution_count": null,
      "outputs": []
    },
    {
      "cell_type": "code",
      "source": [
        "#How do you create a 2D array in NumPy using Python's built-in list of lists?"
      ],
      "metadata": {
        "id": "h0cD5yNcJQkm"
      },
      "execution_count": null,
      "outputs": []
    },
    {
      "cell_type": "code",
      "source": [
        "#How can you slice a NumPy array to extract a subarray?"
      ],
      "metadata": {
        "id": "bbLfBXwCJVwX"
      },
      "execution_count": null,
      "outputs": []
    },
    {
      "cell_type": "code",
      "source": [
        "#What are some of the available functions for performing element-wise operations on NumPy arrays?"
      ],
      "metadata": {
        "id": "c1jTMq5AJbS2"
      },
      "execution_count": null,
      "outputs": []
    },
    {
      "cell_type": "code",
      "source": [
        "#How do you reshape a NumPy array to have a different shape?"
      ],
      "metadata": {
        "id": "dPgmCPERJe_2"
      },
      "execution_count": null,
      "outputs": []
    },
    {
      "cell_type": "code",
      "source": [
        "#How do you perform matrix multiplication on two NumPy arrays using the dot() function?"
      ],
      "metadata": {
        "id": "oon90JvgJhvv"
      },
      "execution_count": null,
      "outputs": []
    },
    {
      "cell_type": "code",
      "source": [
        "#How can you use the where() function to apply a condition to a NumPy array?"
      ],
      "metadata": {
        "id": "JtbVS5P0Jodg"
      },
      "execution_count": null,
      "outputs": []
    },
    {
      "cell_type": "code",
      "source": [
        "#What is the difference between the flatten() and ravel() functions in NumPy?"
      ],
      "metadata": {
        "id": "UkJ-LQlhJrMA"
      },
      "execution_count": null,
      "outputs": []
    },
    {
      "cell_type": "code",
      "source": [
        "#How do you use NumPy's advanced indexing capabilities to select specific elements from an array?"
      ],
      "metadata": {
        "id": "5cf9aukfJsaB"
      },
      "execution_count": null,
      "outputs": []
    },
    {
      "cell_type": "code",
      "source": [
        "#How can you use NumPy's broadcasting rules to perform operations on arrays with different shapes?"
      ],
      "metadata": {
        "id": "b2NpOnu2JxMp"
      },
      "execution_count": null,
      "outputs": []
    },
    {
      "cell_type": "code",
      "source": [
        "#How do you perform element-wise division of two NumPy arrays while ignoring divide-by-zero errors?"
      ],
      "metadata": {
        "id": "vS-gg1ZrJ8s6"
      },
      "execution_count": null,
      "outputs": []
    },
    {
      "cell_type": "markdown",
      "source": [
        "### Project: Array Statistics Calculator\n",
        "**Description:**\n",
        "\n",
        "In this project, you will create a program that allows a user to enter a list of numbers, and then calculates and displays various statistics about those numbers using NumPy.\n",
        "\n",
        "**Requirements:**\n",
        "\n",
        "- The program should prompt the user to enter a list of numbers separated by commas.\n",
        "- The program should use NumPy to convert the input into a 1D NumPy array.\n",
        "- The program should calculate and display the following statistics:\n",
        "- The mean of the numbers\n",
        "- The median of the numbers\n",
        "- The standard deviation of the numbers\n",
        "- The maximum and minimum values of the numbers\n",
        "- The program should use appropriate NumPy functions to calculate the statistics.\n",
        "- The program should display the statistics with appropriate labels.\n",
        "\n",
        "### Sample Output\n",
        "```\n",
        "Enter a list of numbers separated by commas: 2, 5, 7, 3, 1, 9\n",
        "Statistics for the input array:\n",
        "Mean: 4.5\n",
        "Median: 4.0\n",
        "Standard Deviation: 2.9154759474226504\n",
        "Maximum: 9\n",
        "Minimum: 1\n",
        "```"
      ],
      "metadata": {
        "id": "XgeHrSj7KzTj"
      }
    },
    {
      "cell_type": "code",
      "source": [],
      "metadata": {
        "id": "xQU4w-RxLgWZ"
      },
      "execution_count": null,
      "outputs": []
    }
  ]
}