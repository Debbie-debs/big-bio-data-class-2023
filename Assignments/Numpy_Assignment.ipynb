{
 "cells": [
  {
   "cell_type": "markdown",
   "metadata": {
    "id": "aTz0cvx7Iex3"
   },
   "source": [
    "## Numpy Assignment\n",
    "Student Name: KAKANDE Paul\n",
    "\n",
    "Reg No: 2022/HD07/2044U\n",
    "\n",
    "## Instructions:\n",
    "- Please complete the questions below.\n",
    "- Please comment your code indicating how you approached the problem"
   ]
  },
  {
   "cell_type": "code",
   "execution_count": 1,
   "metadata": {},
   "outputs": [],
   "source": [
    "# Importing numpy package and aliasing it as np\n",
    "import numpy as np"
   ]
  },
  {
   "cell_type": "code",
   "execution_count": 2,
   "metadata": {
    "id": "NwKEk4skG5c2"
   },
   "outputs": [],
   "source": [
    "# What is NumPy, and what are some of its key features?"
   ]
  },
  {
   "cell_type": "markdown",
   "metadata": {},
   "source": [
    "#### Defining NumPy and its key features.\n",
    "\n",
    "Numpy short for _Numerical Python_, is one of the foundational packages for numerical computing in python.\n",
    "\n",
    "**Features**\n",
    "- ndarray, an efficient multidimensional array that provides fast array-oriented arithmetic operations and flexible broadcasting capabilities.\n",
    "- Mathematical functions for fast operations on entire arrays of data without having to write loops, that is vectorisation.\n",
    "- Tools for reading and writing array data to disk and working with memory-mapped files.\n",
    "- Linear algebra, random number generation, and Fourier transform capabilities.\n",
    "- A C API for connecting NumPy with libraries written in C, C++, or FORTRA"
   ]
  },
  {
   "cell_type": "code",
   "execution_count": 3,
   "metadata": {
    "id": "OMqoIR7oJD0i"
   },
   "outputs": [],
   "source": [
    "#How do you create a NumPy array using Python's built-in range() function?"
   ]
  },
  {
   "cell_type": "markdown",
   "metadata": {},
   "source": [
    "#### Creating a NumPy array using Python's built-in range() function.\n",
    "\n",
    "Python's built-in `range()` returns a range object, a sequence of integers.\n",
    "\n",
    "Use case: <br/>\n",
    "`range(stop)` <br/>\n",
    "`range(start, stop \\[,step\\])` <br/>\n",
    "where in the first instance start defaults to zero. In both, it returns a range object that produces a sequence ranging from start inclusive to stop exclusive by step as the increment or decrement from the start. Start, Stop and Step should be integers.\n",
    "\n",
    "\n",
    "To create a NumPy array from the returned object;\n",
    "- Convert the `range()` iterable to a list using `list(range())`\n",
    "- Convert the created list to NumPy array using the array function of numpy as `numpy.array(list [,dtype=dtype])`\n",
    "\n",
    "The use case is shown in the next code note.\n",
    "\n",
    "**Note**<br/>\n",
    "The parameters in square brackets \"`[]`\" are not mandatory.<br/>\n",
    "dtype specifies the datatype to be used for the array."
   ]
  },
  {
   "cell_type": "code",
   "execution_count": 4,
   "metadata": {},
   "outputs": [
    {
     "data": {
      "text/plain": [
       "array([0, 1, 2, 3, 4, 5, 6, 7, 8, 9])"
      ]
     },
     "execution_count": 4,
     "metadata": {},
     "output_type": "execute_result"
    }
   ],
   "source": [
    "arr_from_range = np.array(list(range(10)))\n",
    "arr_from_range"
   ]
  },
  {
   "cell_type": "code",
   "execution_count": null,
   "metadata": {
    "id": "DRVy8tPoJHQr"
   },
   "outputs": [],
   "source": [
    "#What is the difference between a scalar value and a vector in NumPy?"
   ]
  },
  {
   "cell_type": "code",
   "execution_count": null,
   "metadata": {
    "id": "lHa-pHerJKd0"
   },
   "outputs": [],
   "source": [
    "#How do you calculate the mean of a NumPy array using the mean() function?"
   ]
  },
  {
   "cell_type": "code",
   "execution_count": null,
   "metadata": {
    "id": "EqpLGTh8JON9"
   },
   "outputs": [],
   "source": [
    "#What is broadcasting in NumPy, and how can it be useful?"
   ]
  },
  {
   "cell_type": "code",
   "execution_count": null,
   "metadata": {
    "id": "h0cD5yNcJQkm"
   },
   "outputs": [],
   "source": [
    "#How do you create a 2D array in NumPy using Python's built-in list of lists?"
   ]
  },
  {
   "cell_type": "code",
   "execution_count": null,
   "metadata": {
    "id": "bbLfBXwCJVwX"
   },
   "outputs": [],
   "source": [
    "#How can you slice a NumPy array to extract a subarray?"
   ]
  },
  {
   "cell_type": "code",
   "execution_count": null,
   "metadata": {
    "id": "c1jTMq5AJbS2"
   },
   "outputs": [],
   "source": [
    "#What are some of the available functions for performing element-wise operations on NumPy arrays?"
   ]
  },
  {
   "cell_type": "code",
   "execution_count": null,
   "metadata": {
    "id": "dPgmCPERJe_2"
   },
   "outputs": [],
   "source": [
    "#How do you reshape a NumPy array to have a different shape?"
   ]
  },
  {
   "cell_type": "code",
   "execution_count": null,
   "metadata": {
    "id": "oon90JvgJhvv"
   },
   "outputs": [],
   "source": [
    "#How do you perform matrix multiplication on two NumPy arrays using the dot() function?"
   ]
  },
  {
   "cell_type": "code",
   "execution_count": null,
   "metadata": {
    "id": "JtbVS5P0Jodg"
   },
   "outputs": [],
   "source": [
    "#How can you use the where() function to apply a condition to a NumPy array?"
   ]
  },
  {
   "cell_type": "code",
   "execution_count": null,
   "metadata": {
    "id": "UkJ-LQlhJrMA"
   },
   "outputs": [],
   "source": [
    "#What is the difference between the flatten() and ravel() functions in NumPy?"
   ]
  },
  {
   "cell_type": "code",
   "execution_count": null,
   "metadata": {
    "id": "5cf9aukfJsaB"
   },
   "outputs": [],
   "source": [
    "#How do you use NumPy's advanced indexing capabilities to select specific elements from an array?"
   ]
  },
  {
   "cell_type": "code",
   "execution_count": null,
   "metadata": {
    "id": "b2NpOnu2JxMp"
   },
   "outputs": [],
   "source": [
    "#How can you use NumPy's broadcasting rules to perform operations on arrays with different shapes?"
   ]
  },
  {
   "cell_type": "code",
   "execution_count": null,
   "metadata": {
    "id": "vS-gg1ZrJ8s6"
   },
   "outputs": [],
   "source": [
    "#How do you perform element-wise division of two NumPy arrays while ignoring divide-by-zero errors?"
   ]
  },
  {
   "cell_type": "markdown",
   "metadata": {
    "id": "XgeHrSj7KzTj"
   },
   "source": [
    "### Project: Array Statistics Calculator\n",
    "**Description:**\n",
    "\n",
    "In this project, you will create a program that allows a user to enter a list of numbers, and then calculates and displays various statistics about those numbers using NumPy.\n",
    "\n",
    "**Requirements:**\n",
    "\n",
    "- The program should prompt the user to enter a list of numbers separated by commas.\n",
    "- The program should use NumPy to convert the input into a 1D NumPy array.\n",
    "- The program should calculate and display the following statistics:\n",
    "- The mean of the numbers\n",
    "- The median of the numbers\n",
    "- The standard deviation of the numbers\n",
    "- The maximum and minimum values of the numbers\n",
    "- The program should use appropriate NumPy functions to calculate the statistics.\n",
    "- The program should display the statistics with appropriate labels.\n",
    "\n",
    "### Sample Output\n",
    "```\n",
    "Enter a list of numbers separated by commas: 2, 5, 7, 3, 1, 9\n",
    "Statistics for the input array:\n",
    "Mean: 4.5\n",
    "Median: 4.0\n",
    "Standard Deviation: 2.9154759474226504\n",
    "Maximum: 9\n",
    "Minimum: 1\n",
    "```"
   ]
  },
  {
   "cell_type": "code",
   "execution_count": null,
   "metadata": {
    "id": "xQU4w-RxLgWZ"
   },
   "outputs": [],
   "source": []
  }
 ],
 "metadata": {
  "colab": {
   "provenance": []
  },
  "kernelspec": {
   "display_name": "Python 3 (ipykernel)",
   "language": "python",
   "name": "python3"
  },
  "language_info": {
   "codemirror_mode": {
    "name": "ipython",
    "version": 3
   },
   "file_extension": ".py",
   "mimetype": "text/x-python",
   "name": "python",
   "nbconvert_exporter": "python",
   "pygments_lexer": "ipython3",
   "version": "3.9.13"
  }
 },
 "nbformat": 4,
 "nbformat_minor": 1
}
